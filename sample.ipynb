{
 "cells": [
  {
   "cell_type": "code",
   "execution_count": 1,
   "metadata": {},
   "outputs": [],
   "source": [
    "import json"
   ]
  },
  {
   "cell_type": "code",
   "execution_count": 2,
   "metadata": {},
   "outputs": [],
   "source": [
    "def read_json_file(file_path):\n",
    "    with open(file_path, 'r') as file:\n",
    "        data = json.load(file)\n",
    "    return data"
   ]
  },
  {
   "cell_type": "code",
   "execution_count": 3,
   "metadata": {},
   "outputs": [
    {
     "name": "stdout",
     "output_type": "stream",
     "text": [
      "Tracks count: 5178\n"
     ]
    }
   ],
   "source": [
    "tracks = read_json_file('tracks.json')\n",
    "print(f'Tracks count: {len(tracks)}')"
   ]
  },
  {
   "cell_type": "code",
   "execution_count": 7,
   "metadata": {},
   "outputs": [
    {
     "data": {
      "text/plain": [
       "'spotify:track:5N1itNLaYtifU8YVbg9SBQ'"
      ]
     },
     "execution_count": 7,
     "metadata": {},
     "output_type": "execute_result"
    }
   ],
   "source": [
    "tracks[0]"
   ]
  },
  {
   "cell_type": "code",
   "execution_count": 8,
   "metadata": {},
   "outputs": [
    {
     "name": "stdout",
     "output_type": "stream",
     "text": [
      "isrcs count: 100\n"
     ]
    }
   ],
   "source": [
    "isrcs = read_json_file('isrcs.json')\n",
    "print(f'isrcs count: {len(isrcs)}')"
   ]
  },
  {
   "cell_type": "code",
   "execution_count": 9,
   "metadata": {},
   "outputs": [
    {
     "data": {
      "text/plain": [
       "'GBUM71404104'"
      ]
     },
     "execution_count": 9,
     "metadata": {},
     "output_type": "execute_result"
    }
   ],
   "source": [
    "isrcs[0]"
   ]
  },
  {
   "cell_type": "code",
   "execution_count": 5,
   "metadata": {},
   "outputs": [
    {
     "name": "stdout",
     "output_type": "stream",
     "text": [
      "tracks_lyrics count: 95\n"
     ]
    }
   ],
   "source": [
    "tracks_lyrics = read_json_file('tracks_lyrics.json')\n",
    "print(f'tracks_lyrics count: {len(tracks_lyrics)}')"
   ]
  },
  {
   "cell_type": "code",
   "execution_count": 6,
   "metadata": {},
   "outputs": [
    {
     "name": "stdout",
     "output_type": "stream",
     "text": [
      "{'track_isrc': 'GBUM71404104', 'lyrics_id': 30513906, 'lyrics_body': \"Seen fortune in my lifetime\\nGave it all to the man instead\\nStill tomorrow comes, I'm still standing on my own two feet\\nGot a woman at home, she treats me well\\n\\nAnger, I've seen it rise\\nFrom a careless word that I said\\nWell, guilt is wasteful, pride is childish\\nGot a woman at home, she told me that\\nGot a woman at home, she taught me well\\n\\nFound sorrow in my mind most times\\nGave it all back to the life I led\\n...\\n\\n******* This Ly\"}\n"
     ]
    }
   ],
   "source": [
    "print(tracks_lyrics[0])"
   ]
  }
 ],
 "metadata": {
  "kernelspec": {
   "display_name": "Python 3",
   "language": "python",
   "name": "python3"
  },
  "language_info": {
   "codemirror_mode": {
    "name": "ipython",
    "version": 3
   },
   "file_extension": ".py",
   "mimetype": "text/x-python",
   "name": "python",
   "nbconvert_exporter": "python",
   "pygments_lexer": "ipython3",
   "version": "3.10.11"
  }
 },
 "nbformat": 4,
 "nbformat_minor": 2
}
